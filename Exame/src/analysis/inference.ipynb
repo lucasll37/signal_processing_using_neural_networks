{
 "cells": [
  {
   "cell_type": "markdown",
   "metadata": {},
   "source": [
    "## [[DSC-2024](https://comp.ita.br/dsc/edicoes/2024/)] Develop a predictive model for the presence of hold(s) in commercial flights with origin and destination at the 12 main airports in Brazil\n",
    "\n",
    "### Author: [Lucas Lima](https://www.linkedin.com/in/lucaslima25/)"
   ]
  },
  {
   "cell_type": "code",
   "execution_count": 1,
   "metadata": {},
   "outputs": [],
   "source": [
    "import pandas as pd\n",
    "import seaborn as sns\n",
    "import numpy as np\n",
    "import matplotlib.pyplot as plt\n",
    "import sys\n",
    "\n",
    "from pathlib import Path\n",
    "from datetime import datetime"
   ]
  },
  {
   "cell_type": "code",
   "execution_count": 2,
   "metadata": {},
   "outputs": [],
   "source": [
    "sys.path.append(str(Path().cwd().parent))\n",
    "\n",
    "from prediction import NeuralNetwork, XgBoost"
   ]
  },
  {
   "cell_type": "code",
   "execution_count": 3,
   "metadata": {},
   "outputs": [],
   "source": [
    "plt.rcParams[\"figure.dpi\"] = 100"
   ]
  },
  {
   "cell_type": "code",
   "execution_count": 4,
   "metadata": {},
   "outputs": [
    {
     "name": "stdout",
     "output_type": "stream",
     "text": [
      "Author: xxx Team\n",
      "\n",
      "seaborn   : 0.13.2\n",
      "pandas    : 1.5.3\n",
      "numpy     : 1.23.5\n",
      "matplotlib: 3.7.0\n",
      "sys       : 3.11.7 (main, Dec 15 2023, 18:12:31) [GCC 11.2.0]\n",
      "\n"
     ]
    }
   ],
   "source": [
    "%reload_ext watermark\n",
    "%watermark -a \"xxx Team\" --iversions"
   ]
  },
  {
   "cell_type": "code",
   "execution_count": 5,
   "metadata": {},
   "outputs": [],
   "source": [
    "df_balanced = pd.read_csv(f\"../../data/preprocessing/df_padding_50_drop_0.csv\")"
   ]
  },
  {
   "cell_type": "code",
   "execution_count": 6,
   "metadata": {},
   "outputs": [],
   "source": [
    "df_prediction = pd.read_csv(f\"../../data/preprocessing/df_prediction_padding_50_drop_0.csv\", index_col='flightid')"
   ]
  },
  {
   "cell_type": "code",
   "execution_count": 7,
   "metadata": {},
   "outputs": [
    {
     "data": {
      "text/html": [
       "<div>\n",
       "<style scoped>\n",
       "    .dataframe tbody tr th:only-of-type {\n",
       "        vertical-align: middle;\n",
       "    }\n",
       "\n",
       "    .dataframe tbody tr th {\n",
       "        vertical-align: top;\n",
       "    }\n",
       "\n",
       "    .dataframe thead th {\n",
       "        text-align: right;\n",
       "    }\n",
       "</style>\n",
       "<table border=\"1\" class=\"dataframe\">\n",
       "  <thead>\n",
       "    <tr style=\"text-align: right;\">\n",
       "      <th></th>\n",
       "      <th>flightid</th>\n",
       "      <th>hora_ref</th>\n",
       "      <th>origem</th>\n",
       "      <th>destino</th>\n",
       "      <th>url_img_satelite</th>\n",
       "      <th>metaf</th>\n",
       "      <th>metar</th>\n",
       "      <th>prev_troca_cabeceira</th>\n",
       "      <th>troca_cabeceira_hora_anterior</th>\n",
       "      <th>espera</th>\n",
       "    </tr>\n",
       "  </thead>\n",
       "  <tbody>\n",
       "    <tr>\n",
       "      <th>127305</th>\n",
       "      <td>e133f1b5aecb40f3c03c1f0bf266d6df</td>\n",
       "      <td>2022-11-09T09:00:00Z</td>\n",
       "      <td>SBSV</td>\n",
       "      <td>SBGR</td>\n",
       "      <td>http://satelite.cptec.inpe.br/repositoriogoes/...</td>\n",
       "      <td>METAF SBGR 090900Z 06004KT 0600 FG     OVC028 ...</td>\n",
       "      <td>METAR SBGR 090800Z 07009KT 9000 OVC006 15/14 Q...</td>\n",
       "      <td>0</td>\n",
       "      <td>0</td>\n",
       "      <td>0.0</td>\n",
       "    </tr>\n",
       "    <tr>\n",
       "      <th>60144</th>\n",
       "      <td>70f1e2524e6adc84e5720a495cdef584</td>\n",
       "      <td>2022-08-16T19:00:00Z</td>\n",
       "      <td>SBSP</td>\n",
       "      <td>SBPA</td>\n",
       "      <td>http://satelite.cptec.inpe.br/repositoriogoes/...</td>\n",
       "      <td>METAF SBPA 161900Z  12007KT 9999       OVC033 ...</td>\n",
       "      <td>METAR SBPA 161800Z 08003KT 050V110 9999 OVC021...</td>\n",
       "      <td>0</td>\n",
       "      <td>0</td>\n",
       "      <td>0.0</td>\n",
       "    </tr>\n",
       "    <tr>\n",
       "      <th>13406</th>\n",
       "      <td>3758ba2b9eaccd0c80093608a19332a0</td>\n",
       "      <td>2022-06-19T14:00:00Z</td>\n",
       "      <td>SBCF</td>\n",
       "      <td>SBRJ</td>\n",
       "      <td>http://satelite.cptec.inpe.br/repositoriogoes/...</td>\n",
       "      <td>NaN</td>\n",
       "      <td>METAR SBRJ 191300Z 16009KT 4000 -RA BR SCT005 ...</td>\n",
       "      <td>0</td>\n",
       "      <td>0</td>\n",
       "      <td>0.0</td>\n",
       "    </tr>\n",
       "  </tbody>\n",
       "</table>\n",
       "</div>"
      ],
      "text/plain": [
       "                                flightid              hora_ref origem destino  \\\n",
       "127305  e133f1b5aecb40f3c03c1f0bf266d6df  2022-11-09T09:00:00Z   SBSV    SBGR   \n",
       "60144   70f1e2524e6adc84e5720a495cdef584  2022-08-16T19:00:00Z   SBSP    SBPA   \n",
       "13406   3758ba2b9eaccd0c80093608a19332a0  2022-06-19T14:00:00Z   SBCF    SBRJ   \n",
       "\n",
       "                                         url_img_satelite  \\\n",
       "127305  http://satelite.cptec.inpe.br/repositoriogoes/...   \n",
       "60144   http://satelite.cptec.inpe.br/repositoriogoes/...   \n",
       "13406   http://satelite.cptec.inpe.br/repositoriogoes/...   \n",
       "\n",
       "                                                    metaf  \\\n",
       "127305  METAF SBGR 090900Z 06004KT 0600 FG     OVC028 ...   \n",
       "60144   METAF SBPA 161900Z  12007KT 9999       OVC033 ...   \n",
       "13406                                                 NaN   \n",
       "\n",
       "                                                    metar  \\\n",
       "127305  METAR SBGR 090800Z 07009KT 9000 OVC006 15/14 Q...   \n",
       "60144   METAR SBPA 161800Z 08003KT 050V110 9999 OVC021...   \n",
       "13406   METAR SBRJ 191300Z 16009KT 4000 -RA BR SCT005 ...   \n",
       "\n",
       "        prev_troca_cabeceira  troca_cabeceira_hora_anterior  espera  \n",
       "127305                     0                              0     0.0  \n",
       "60144                      0                              0     0.0  \n",
       "13406                      0                              0     0.0  "
      ]
     },
     "execution_count": 7,
     "metadata": {},
     "output_type": "execute_result"
    }
   ],
   "source": [
    "df_original = pd.read_csv(f\"../../data/base/public.csv\")\n",
    "df_original.sample(3)"
   ]
  },
  {
   "cell_type": "code",
   "execution_count": 8,
   "metadata": {},
   "outputs": [
    {
     "data": {
      "text/html": [
       "<div>\n",
       "<style scoped>\n",
       "    .dataframe tbody tr th:only-of-type {\n",
       "        vertical-align: middle;\n",
       "    }\n",
       "\n",
       "    .dataframe tbody tr th {\n",
       "        vertical-align: top;\n",
       "    }\n",
       "\n",
       "    .dataframe thead th {\n",
       "        text-align: right;\n",
       "    }\n",
       "</style>\n",
       "<table border=\"1\" class=\"dataframe\">\n",
       "  <thead>\n",
       "    <tr style=\"text-align: right;\">\n",
       "      <th></th>\n",
       "      <th>destino</th>\n",
       "      <th>prev_troca_cabeceira</th>\n",
       "      <th>troca_cabeceira_hora_anterior</th>\n",
       "      <th>espera</th>\n",
       "      <th>metar_CAVOK</th>\n",
       "      <th>metar_wind_direction</th>\n",
       "      <th>metar_wind_speed</th>\n",
       "      <th>metar_wind_gust</th>\n",
       "      <th>metar_temperature</th>\n",
       "      <th>metar_dewpoint</th>\n",
       "      <th>...</th>\n",
       "      <th>metaf_OVC_alt</th>\n",
       "      <th>distance</th>\n",
       "      <th>imageSatelite_red</th>\n",
       "      <th>imageSatelite_yellow</th>\n",
       "      <th>imageSatelite_green</th>\n",
       "      <th>imageSatelite_blue</th>\n",
       "      <th>hour</th>\n",
       "      <th>weekday</th>\n",
       "      <th>mounth</th>\n",
       "      <th>holiday_near</th>\n",
       "    </tr>\n",
       "  </thead>\n",
       "  <tbody>\n",
       "    <tr>\n",
       "      <th>21052</th>\n",
       "      <td>SBBR</td>\n",
       "      <td>1</td>\n",
       "      <td>0</td>\n",
       "      <td>0.0</td>\n",
       "      <td>True</td>\n",
       "      <td>0.0</td>\n",
       "      <td>0.0</td>\n",
       "      <td>False</td>\n",
       "      <td>11.0</td>\n",
       "      <td>9.0</td>\n",
       "      <td>...</td>\n",
       "      <td>0</td>\n",
       "      <td>277.405840</td>\n",
       "      <td>0.0</td>\n",
       "      <td>0.0</td>\n",
       "      <td>0.0</td>\n",
       "      <td>0.0</td>\n",
       "      <td>8</td>\n",
       "      <td>2</td>\n",
       "      <td>6</td>\n",
       "      <td>False</td>\n",
       "    </tr>\n",
       "    <tr>\n",
       "      <th>80713</th>\n",
       "      <td>SBSP</td>\n",
       "      <td>0</td>\n",
       "      <td>1</td>\n",
       "      <td>0.0</td>\n",
       "      <td>False</td>\n",
       "      <td>80.0</td>\n",
       "      <td>6.0</td>\n",
       "      <td>False</td>\n",
       "      <td>14.0</td>\n",
       "      <td>13.0</td>\n",
       "      <td>...</td>\n",
       "      <td>0</td>\n",
       "      <td>73.600272</td>\n",
       "      <td>0.0</td>\n",
       "      <td>0.0</td>\n",
       "      <td>0.0</td>\n",
       "      <td>0.0</td>\n",
       "      <td>12</td>\n",
       "      <td>0</td>\n",
       "      <td>9</td>\n",
       "      <td>False</td>\n",
       "    </tr>\n",
       "    <tr>\n",
       "      <th>207199</th>\n",
       "      <td>SBFL</td>\n",
       "      <td>1</td>\n",
       "      <td>0</td>\n",
       "      <td>0.0</td>\n",
       "      <td>True</td>\n",
       "      <td>330.0</td>\n",
       "      <td>6.0</td>\n",
       "      <td>False</td>\n",
       "      <td>22.0</td>\n",
       "      <td>22.0</td>\n",
       "      <td>...</td>\n",
       "      <td>0</td>\n",
       "      <td>104.694795</td>\n",
       "      <td>0.0</td>\n",
       "      <td>0.0</td>\n",
       "      <td>0.0</td>\n",
       "      <td>0.0</td>\n",
       "      <td>9</td>\n",
       "      <td>5</td>\n",
       "      <td>2</td>\n",
       "      <td>False</td>\n",
       "    </tr>\n",
       "  </tbody>\n",
       "</table>\n",
       "<p>3 rows × 41 columns</p>\n",
       "</div>"
      ],
      "text/plain": [
       "       destino  prev_troca_cabeceira  troca_cabeceira_hora_anterior  espera  \\\n",
       "21052     SBBR                     1                              0     0.0   \n",
       "80713     SBSP                     0                              1     0.0   \n",
       "207199    SBFL                     1                              0     0.0   \n",
       "\n",
       "        metar_CAVOK  metar_wind_direction  metar_wind_speed metar_wind_gust  \\\n",
       "21052          True                   0.0               0.0           False   \n",
       "80713         False                  80.0               6.0           False   \n",
       "207199         True                 330.0               6.0           False   \n",
       "\n",
       "        metar_temperature  metar_dewpoint  ...  metaf_OVC_alt    distance  \\\n",
       "21052                11.0             9.0  ...              0  277.405840   \n",
       "80713                14.0            13.0  ...              0   73.600272   \n",
       "207199               22.0            22.0  ...              0  104.694795   \n",
       "\n",
       "        imageSatelite_red  imageSatelite_yellow  imageSatelite_green  \\\n",
       "21052                 0.0                   0.0                  0.0   \n",
       "80713                 0.0                   0.0                  0.0   \n",
       "207199                0.0                   0.0                  0.0   \n",
       "\n",
       "        imageSatelite_blue  hour  weekday  mounth  holiday_near  \n",
       "21052                  0.0     8        2       6         False  \n",
       "80713                  0.0    12        0       9         False  \n",
       "207199                 0.0     9        5       2         False  \n",
       "\n",
       "[3 rows x 41 columns]"
      ]
     },
     "execution_count": 8,
     "metadata": {},
     "output_type": "execute_result"
    }
   ],
   "source": [
    "df_balanced.sample(3)"
   ]
  },
  {
   "cell_type": "code",
   "execution_count": 9,
   "metadata": {},
   "outputs": [],
   "source": [
    "ratio_classes = 1"
   ]
  },
  {
   "cell_type": "code",
   "execution_count": 10,
   "metadata": {},
   "outputs": [
    {
     "name": "stdout",
     "output_type": "stream",
     "text": [
      "0.0    3686\n",
      "1.0    3686\n",
      "Name: espera, dtype: int64\n"
     ]
    }
   ],
   "source": [
    "class_counts = df_balanced['espera'].value_counts()\n",
    "minority_class = class_counts.idxmin()\n",
    "majority_class = class_counts.idxmax()\n",
    "\n",
    "minority_data = df_balanced[df_balanced['espera'] == minority_class]\n",
    "majority_data = df_balanced[df_balanced['espera'] == majority_class]\n",
    "\n",
    "oversampled_minority_data = pd.concat([minority_data] * ratio_classes, ignore_index=True)\n",
    "target_sample_size = len(oversampled_minority_data)\n",
    "undersampled_majority_data = majority_data.sample(target_sample_size, random_state=42)\n",
    "\n",
    "# Combinar de volta com os dados originais\n",
    "df_balanced = pd.concat([undersampled_majority_data, oversampled_minority_data], ignore_index=True)\n",
    "\n",
    "# Verificando os novos conteúdos\n",
    "print(df_balanced['espera'].value_counts())"
   ]
  },
  {
   "cell_type": "markdown",
   "metadata": {},
   "source": [
    "### Modelo Preditivo"
   ]
  },
  {
   "cell_type": "markdown",
   "metadata": {},
   "source": [
    "#### Rede Neural Artificial"
   ]
  },
  {
   "cell_type": "code",
   "execution_count": 11,
   "metadata": {},
   "outputs": [],
   "source": [
    "nn = NeuralNetwork(target=\"espera\", seed=25)"
   ]
  },
  {
   "cell_type": "code",
   "execution_count": 12,
   "metadata": {},
   "outputs": [
    {
     "name": "stdout",
     "output_type": "stream",
     "text": [
      "\n",
      "                Task: classification\n",
      "\n",
      "                Total of registers: 7372\n",
      "                Total of valid registers: 7341\n",
      "                Total of invalid registers: 31\n",
      "\n",
      "                Total of training registers: 5138\n",
      "                Total of validation registers: 1102\n",
      "                Total of test registers: 1101\n",
      "\n",
      "                Features before preprocessing: 40\n",
      "                Features after preprocessing: 48\n",
      "\n",
      "                Numerical Features: ['prev_troca_cabeceira', 'troca_cabeceira_hora_anterior', 'metar_wind_direction', 'metar_wind_speed', 'metar_temperature', 'metar_dewpoint', 'metar_qnh', 'metar_visibility', 'metar_FEW_alt', 'metar_SCT_alt', 'metar_BKN_alt', 'metar_OVC_alt', 'metaf_wind_direction', 'metaf_wind_speed', 'metaf_temperature', 'metaf_dewpoint', 'metaf_qnh', 'metaf_visibility', 'metaf_FEW_alt', 'metaf_SCT_alt', 'metaf_BKN_alt', 'metaf_OVC_alt', 'distance', 'imageSatelite_red', 'imageSatelite_yellow', 'imageSatelite_green', 'imageSatelite_blue', 'hour', 'weekday', 'mounth']\n",
      "                Categorical Features: ['metar_CAVOK', 'metar_wind_gust', 'metar_FEW_CB', 'metar_SCT_CB', 'metaf_CAVOK', 'metaf_wind_gust', 'metaf_FEW_CB', 'metaf_SCT_CB', 'holiday_near']\n",
      "                Categorical Features removed due to high cardinality: ['destino']\n",
      "\n",
      "                Target: ['espera']\n",
      "            \tCardinality (Target): 2\n"
     ]
    }
   ],
   "source": [
    "nn.build(\n",
    "    df_balanced,\n",
    "    task=\"classification\",\n",
    "    max_cat_nunique = 10,\n",
    "    split_size = (0.7, 0.15, 0.15),\n",
    "    info=True,\n",
    "    patience_early_stopping = 20,\n",
    "    patience_reduceLR = 4\n",
    ")"
   ]
  },
  {
   "cell_type": "code",
   "execution_count": 23,
   "metadata": {},
   "outputs": [
    {
     "name": "stdout",
     "output_type": "stream",
     "text": [
      "Model: \"sequential_4\"\n",
      "_________________________________________________________________\n",
      " Layer (type)                Output Shape              Param #   \n",
      "=================================================================\n",
      " dense_16 (Dense)            (None, 64)                3136      \n",
      "                                                                 \n",
      " batch_normalization_12 (Ba  (None, 64)                256       \n",
      " tchNormalization)                                               \n",
      "                                                                 \n",
      " activation_12 (Activation)  (None, 64)                0         \n",
      "                                                                 \n",
      " dropout_12 (Dropout)        (None, 64)                0         \n",
      "                                                                 \n",
      " dense_17 (Dense)            (None, 64)                4160      \n",
      "                                                                 \n",
      " batch_normalization_13 (Ba  (None, 64)                256       \n",
      " tchNormalization)                                               \n",
      "                                                                 \n",
      " activation_13 (Activation)  (None, 64)                0         \n",
      "                                                                 \n",
      " dropout_13 (Dropout)        (None, 64)                0         \n",
      "                                                                 \n",
      " dense_18 (Dense)            (None, 64)                4160      \n",
      "                                                                 \n",
      " batch_normalization_14 (Ba  (None, 64)                256       \n",
      " tchNormalization)                                               \n",
      "                                                                 \n",
      " activation_14 (Activation)  (None, 64)                0         \n",
      "                                                                 \n",
      " dropout_14 (Dropout)        (None, 64)                0         \n",
      "                                                                 \n",
      " dense_19 (Dense)            (None, 2)                 130       \n",
      "                                                                 \n",
      "=================================================================\n",
      "Total params: 12354 (48.26 KB)\n",
      "Trainable params: 11970 (46.76 KB)\n",
      "Non-trainable params: 384 (1.50 KB)\n",
      "_________________________________________________________________\n"
     ]
    }
   ],
   "source": [
    "nn.model.summary()"
   ]
  },
  {
   "cell_type": "code",
   "execution_count": 13,
   "metadata": {},
   "outputs": [
    {
     "data": {
      "text/html": [
       "<style type=\"text/css\">\n",
       "#T_8d93b th {\n",
       "  text-align: center;\n",
       "}\n",
       "</style>\n",
       "<table id=\"T_8d93b\">\n",
       "  <thead>\n",
       "    <tr>\n",
       "      <th class=\"blank level0\" >&nbsp;</th>\n",
       "      <th id=\"T_8d93b_level0_col0\" class=\"col_heading level0 col0\" colspan=\"7\">Categorical Crossentropy</th>\n",
       "      <th id=\"T_8d93b_level0_col7\" class=\"col_heading level0 col7\" colspan=\"4\">Hyperparameters</th>\n",
       "    </tr>\n",
       "    <tr>\n",
       "      <th class=\"blank level1\" >&nbsp;</th>\n",
       "      <th id=\"T_8d93b_level1_col0\" class=\"col_heading level1 col0\" >Trial (nº)</th>\n",
       "      <th id=\"T_8d93b_level1_col1\" class=\"col_heading level1 col1\" >Fold nº 1</th>\n",
       "      <th id=\"T_8d93b_level1_col2\" class=\"col_heading level1 col2\" >Fold nº 2</th>\n",
       "      <th id=\"T_8d93b_level1_col3\" class=\"col_heading level1 col3\" >Fold nº 3</th>\n",
       "      <th id=\"T_8d93b_level1_col4\" class=\"col_heading level1 col4\" >Fold nº 4</th>\n",
       "      <th id=\"T_8d93b_level1_col5\" class=\"col_heading level1 col5\" >Folds std</th>\n",
       "      <th id=\"T_8d93b_level1_col6\" class=\"col_heading level1 col6\" >Folds mean</th>\n",
       "      <th id=\"T_8d93b_level1_col7\" class=\"col_heading level1 col7\" >params_batch_size</th>\n",
       "      <th id=\"T_8d93b_level1_col8\" class=\"col_heading level1 col8\" >params_dropout</th>\n",
       "      <th id=\"T_8d93b_level1_col9\" class=\"col_heading level1 col9\" >params_layers</th>\n",
       "      <th id=\"T_8d93b_level1_col10\" class=\"col_heading level1 col10\" >params_optimizer</th>\n",
       "    </tr>\n",
       "    <tr>\n",
       "      <th class=\"index_name level0\" >Ranking</th>\n",
       "      <th class=\"blank col0\" >&nbsp;</th>\n",
       "      <th class=\"blank col1\" >&nbsp;</th>\n",
       "      <th class=\"blank col2\" >&nbsp;</th>\n",
       "      <th class=\"blank col3\" >&nbsp;</th>\n",
       "      <th class=\"blank col4\" >&nbsp;</th>\n",
       "      <th class=\"blank col5\" >&nbsp;</th>\n",
       "      <th class=\"blank col6\" >&nbsp;</th>\n",
       "      <th class=\"blank col7\" >&nbsp;</th>\n",
       "      <th class=\"blank col8\" >&nbsp;</th>\n",
       "      <th class=\"blank col9\" >&nbsp;</th>\n",
       "      <th class=\"blank col10\" >&nbsp;</th>\n",
       "    </tr>\n",
       "  </thead>\n",
       "  <tbody>\n",
       "    <tr>\n",
       "      <th id=\"T_8d93b_level0_row0\" class=\"row_heading level0 row0\" >1º</th>\n",
       "      <td id=\"T_8d93b_row0_col0\" class=\"data row0 col0\" >0</td>\n",
       "      <td id=\"T_8d93b_row0_col1\" class=\"data row0 col1\" >0.603702</td>\n",
       "      <td id=\"T_8d93b_row0_col2\" class=\"data row0 col2\" >0.616158</td>\n",
       "      <td id=\"T_8d93b_row0_col3\" class=\"data row0 col3\" >0.610535</td>\n",
       "      <td id=\"T_8d93b_row0_col4\" class=\"data row0 col4\" >0.596277</td>\n",
       "      <td id=\"T_8d93b_row0_col5\" class=\"data row0 col5\" >0.008598</td>\n",
       "      <td id=\"T_8d93b_row0_col6\" class=\"data row0 col6\" >0.606668</td>\n",
       "      <td id=\"T_8d93b_row0_col7\" class=\"data row0 col7\" >64</td>\n",
       "      <td id=\"T_8d93b_row0_col8\" class=\"data row0 col8\" >0.500000</td>\n",
       "      <td id=\"T_8d93b_row0_col9\" class=\"data row0 col9\" >3</td>\n",
       "      <td id=\"T_8d93b_row0_col10\" class=\"data row0 col10\" >Adam</td>\n",
       "    </tr>\n",
       "  </tbody>\n",
       "</table>\n"
      ],
      "text/plain": [
       "<pandas.io.formats.style.Styler at 0x7f9e3e31a010>"
      ]
     },
     "execution_count": 13,
     "metadata": {},
     "output_type": "execute_result"
    }
   ],
   "source": [
    "nn.hyperparameter_optimization(\n",
    "    n_trials=1,\n",
    "    num_folds=4,\n",
    "    info=True,\n",
    "    search_space_dropout = [0.5],\n",
    "    search_space_layers = [3],\n",
    "    search_space_batch_size = [64],\n",
    "    search_space_optimizer = ['Adam']\n",
    ")"
   ]
  },
  {
   "cell_type": "code",
   "execution_count": 14,
   "metadata": {},
   "outputs": [
    {
     "data": {
      "image/png": "[encoded data removed]",
      "text/plain": [
       "<Figure size 800x800 with 2 Axes>"
      ]
     },
     "metadata": {},
     "output_type": "display_data"
    }
   ],
   "source": [
    "nn.fit(return_history=False, graphic=True, graphic_save_extension='png', verbose=0, path='../../models')"
   ]
  },
  {
   "cell_type": "code",
   "execution_count": 15,
   "metadata": {},
   "outputs": [],
   "source": [
    "nn.save(path='../../models')"
   ]
  },
  {
   "cell_type": "markdown",
   "metadata": {},
   "source": [
    "#### XG Boost"
   ]
  },
  {
   "cell_type": "code",
   "execution_count": 16,
   "metadata": {},
   "outputs": [],
   "source": [
    "xgb = XgBoost(target=\"espera\", seed=25)"
   ]
  },
  {
   "cell_type": "code",
   "execution_count": 17,
   "metadata": {},
   "outputs": [
    {
     "name": "stdout",
     "output_type": "stream",
     "text": [
      "\n",
      "                Task: classification\n",
      "\n",
      "                Total of registers: 7372\n",
      "                Total of valid registers: 7341\n",
      "                Total of invalid registers: 31\n",
      "\n",
      "                Total of training registers: 5138\n",
      "                Total of validation registers: 1102\n",
      "                Total of test registers: 1101\n",
      "\n",
      "                Features before preprocessing: 40\n",
      "                Features after preprocessing: 60\n",
      "\n",
      "                Numerical Features: ['prev_troca_cabeceira', 'troca_cabeceira_hora_anterior', 'metar_wind_direction', 'metar_wind_speed', 'metar_temperature', 'metar_dewpoint', 'metar_qnh', 'metar_visibility', 'metar_FEW_alt', 'metar_SCT_alt', 'metar_BKN_alt', 'metar_OVC_alt', 'metaf_wind_direction', 'metaf_wind_speed', 'metaf_temperature', 'metaf_dewpoint', 'metaf_qnh', 'metaf_visibility', 'metaf_FEW_alt', 'metaf_SCT_alt', 'metaf_BKN_alt', 'metaf_OVC_alt', 'distance', 'imageSatelite_red', 'imageSatelite_yellow', 'imageSatelite_green', 'imageSatelite_blue', 'hour', 'weekday', 'mounth']\n",
      "                Categorical Features: ['destino', 'metar_CAVOK', 'metar_wind_gust', 'metar_FEW_CB', 'metar_SCT_CB', 'metaf_CAVOK', 'metaf_wind_gust', 'metaf_FEW_CB', 'metaf_SCT_CB', 'holiday_near']\n",
      "                Categorical Features removed due to high cardinality: []\n",
      "\n",
      "                Target: ['espera']\n",
      "            \tCardinality (Target): 2\n"
     ]
    }
   ],
   "source": [
    "xgb.build(\n",
    "    df_balanced,\n",
    "    task='classification',\n",
    "    max_cat_nunique = 12,\n",
    "    split_size = (0.7, 0.15, 0.15),\n",
    "    info=True,\n",
    "    patience_early_stopping = 20\n",
    ")"
   ]
  },
  {
   "cell_type": "code",
   "execution_count": 18,
   "metadata": {},
   "outputs": [],
   "source": [
    "# xgb.load(path='../../models', foldername='xgBoost 18-04-24 23h20min')"
   ]
  },
  {
   "cell_type": "code",
   "execution_count": 19,
   "metadata": {},
   "outputs": [
    {
     "data": {
      "text/html": [
       "<style type=\"text/css\">\n",
       "#T_ca4b1 th {\n",
       "  text-align: center;\n",
       "}\n",
       "</style>\n",
       "<table id=\"T_ca4b1\">\n",
       "  <thead>\n",
       "    <tr>\n",
       "      <th class=\"blank level0\" >&nbsp;</th>\n",
       "      <th id=\"T_ca4b1_level0_col0\" class=\"col_heading level0 col0\" colspan=\"8\">Categorical Crossentropy</th>\n",
       "      <th id=\"T_ca4b1_level0_col8\" class=\"col_heading level0 col8\" colspan=\"19\">Hyperparameters</th>\n",
       "    </tr>\n",
       "    <tr>\n",
       "      <th class=\"blank level1\" >&nbsp;</th>\n",
       "      <th id=\"T_ca4b1_level1_col0\" class=\"col_heading level1 col0\" >Trial (nº)</th>\n",
       "      <th id=\"T_ca4b1_level1_col1\" class=\"col_heading level1 col1\" >Fold nº 1</th>\n",
       "      <th id=\"T_ca4b1_level1_col2\" class=\"col_heading level1 col2\" >Fold nº 2</th>\n",
       "      <th id=\"T_ca4b1_level1_col3\" class=\"col_heading level1 col3\" >Fold nº 3</th>\n",
       "      <th id=\"T_ca4b1_level1_col4\" class=\"col_heading level1 col4\" >Fold nº 4</th>\n",
       "      <th id=\"T_ca4b1_level1_col5\" class=\"col_heading level1 col5\" >Fold nº 5</th>\n",
       "      <th id=\"T_ca4b1_level1_col6\" class=\"col_heading level1 col6\" >Folds std</th>\n",
       "      <th id=\"T_ca4b1_level1_col7\" class=\"col_heading level1 col7\" >Folds mean</th>\n",
       "      <th id=\"T_ca4b1_level1_col8\" class=\"col_heading level1 col8\" >params_booster</th>\n",
       "      <th id=\"T_ca4b1_level1_col9\" class=\"col_heading level1 col9\" >params_colsample_bylevel</th>\n",
       "      <th id=\"T_ca4b1_level1_col10\" class=\"col_heading level1 col10\" >params_colsample_bynode</th>\n",
       "      <th id=\"T_ca4b1_level1_col11\" class=\"col_heading level1 col11\" >params_colsample_bytree</th>\n",
       "      <th id=\"T_ca4b1_level1_col12\" class=\"col_heading level1 col12\" >params_grow_policy</th>\n",
       "      <th id=\"T_ca4b1_level1_col13\" class=\"col_heading level1 col13\" >params_learning_rate</th>\n",
       "      <th id=\"T_ca4b1_level1_col14\" class=\"col_heading level1 col14\" >params_max_bin</th>\n",
       "      <th id=\"T_ca4b1_level1_col15\" class=\"col_heading level1 col15\" >params_max_delta_step</th>\n",
       "      <th id=\"T_ca4b1_level1_col16\" class=\"col_heading level1 col16\" >params_max_depth</th>\n",
       "      <th id=\"T_ca4b1_level1_col17\" class=\"col_heading level1 col17\" >params_max_leaves</th>\n",
       "      <th id=\"T_ca4b1_level1_col18\" class=\"col_heading level1 col18\" >params_min_child_weight</th>\n",
       "      <th id=\"T_ca4b1_level1_col19\" class=\"col_heading level1 col19\" >params_min_split_loss</th>\n",
       "      <th id=\"T_ca4b1_level1_col20\" class=\"col_heading level1 col20\" >params_num_parallel_tree</th>\n",
       "      <th id=\"T_ca4b1_level1_col21\" class=\"col_heading level1 col21\" >params_reg_alpha</th>\n",
       "      <th id=\"T_ca4b1_level1_col22\" class=\"col_heading level1 col22\" >params_reg_lambda</th>\n",
       "      <th id=\"T_ca4b1_level1_col23\" class=\"col_heading level1 col23\" >params_sampling_method</th>\n",
       "      <th id=\"T_ca4b1_level1_col24\" class=\"col_heading level1 col24\" >params_scale_pos_weight</th>\n",
       "      <th id=\"T_ca4b1_level1_col25\" class=\"col_heading level1 col25\" >params_subsample</th>\n",
       "      <th id=\"T_ca4b1_level1_col26\" class=\"col_heading level1 col26\" >params_tree_method</th>\n",
       "    </tr>\n",
       "    <tr>\n",
       "      <th class=\"index_name level0\" >Ranking</th>\n",
       "      <th class=\"blank col0\" >&nbsp;</th>\n",
       "      <th class=\"blank col1\" >&nbsp;</th>\n",
       "      <th class=\"blank col2\" >&nbsp;</th>\n",
       "      <th class=\"blank col3\" >&nbsp;</th>\n",
       "      <th class=\"blank col4\" >&nbsp;</th>\n",
       "      <th class=\"blank col5\" >&nbsp;</th>\n",
       "      <th class=\"blank col6\" >&nbsp;</th>\n",
       "      <th class=\"blank col7\" >&nbsp;</th>\n",
       "      <th class=\"blank col8\" >&nbsp;</th>\n",
       "      <th class=\"blank col9\" >&nbsp;</th>\n",
       "      <th class=\"blank col10\" >&nbsp;</th>\n",
       "      <th class=\"blank col11\" >&nbsp;</th>\n",
       "      <th class=\"blank col12\" >&nbsp;</th>\n",
       "      <th class=\"blank col13\" >&nbsp;</th>\n",
       "      <th class=\"blank col14\" >&nbsp;</th>\n",
       "      <th class=\"blank col15\" >&nbsp;</th>\n",
       "      <th class=\"blank col16\" >&nbsp;</th>\n",
       "      <th class=\"blank col17\" >&nbsp;</th>\n",
       "      <th class=\"blank col18\" >&nbsp;</th>\n",
       "      <th class=\"blank col19\" >&nbsp;</th>\n",
       "      <th class=\"blank col20\" >&nbsp;</th>\n",
       "      <th class=\"blank col21\" >&nbsp;</th>\n",
       "      <th class=\"blank col22\" >&nbsp;</th>\n",
       "      <th class=\"blank col23\" >&nbsp;</th>\n",
       "      <th class=\"blank col24\" >&nbsp;</th>\n",
       "      <th class=\"blank col25\" >&nbsp;</th>\n",
       "      <th class=\"blank col26\" >&nbsp;</th>\n",
       "    </tr>\n",
       "  </thead>\n",
       "  <tbody>\n",
       "    <tr>\n",
       "      <th id=\"T_ca4b1_level0_row0\" class=\"row_heading level0 row0\" >1º</th>\n",
       "      <td id=\"T_ca4b1_row0_col0\" class=\"data row0 col0\" >0</td>\n",
       "      <td id=\"T_ca4b1_row0_col1\" class=\"data row0 col1\" >0.525921</td>\n",
       "      <td id=\"T_ca4b1_row0_col2\" class=\"data row0 col2\" >0.522818</td>\n",
       "      <td id=\"T_ca4b1_row0_col3\" class=\"data row0 col3\" >0.537477</td>\n",
       "      <td id=\"T_ca4b1_row0_col4\" class=\"data row0 col4\" >0.511242</td>\n",
       "      <td id=\"T_ca4b1_row0_col5\" class=\"data row0 col5\" >0.507002</td>\n",
       "      <td id=\"T_ca4b1_row0_col6\" class=\"data row0 col6\" >0.012146</td>\n",
       "      <td id=\"T_ca4b1_row0_col7\" class=\"data row0 col7\" >0.520892</td>\n",
       "      <td id=\"T_ca4b1_row0_col8\" class=\"data row0 col8\" >dart</td>\n",
       "      <td id=\"T_ca4b1_row0_col9\" class=\"data row0 col9\" >1</td>\n",
       "      <td id=\"T_ca4b1_row0_col10\" class=\"data row0 col10\" >1</td>\n",
       "      <td id=\"T_ca4b1_row0_col11\" class=\"data row0 col11\" >1</td>\n",
       "      <td id=\"T_ca4b1_row0_col12\" class=\"data row0 col12\" >depthwise</td>\n",
       "      <td id=\"T_ca4b1_row0_col13\" class=\"data row0 col13\" >0.100000</td>\n",
       "      <td id=\"T_ca4b1_row0_col14\" class=\"data row0 col14\" >32</td>\n",
       "      <td id=\"T_ca4b1_row0_col15\" class=\"data row0 col15\" >0</td>\n",
       "      <td id=\"T_ca4b1_row0_col16\" class=\"data row0 col16\" >8</td>\n",
       "      <td id=\"T_ca4b1_row0_col17\" class=\"data row0 col17\" >0</td>\n",
       "      <td id=\"T_ca4b1_row0_col18\" class=\"data row0 col18\" >1</td>\n",
       "      <td id=\"T_ca4b1_row0_col19\" class=\"data row0 col19\" >0</td>\n",
       "      <td id=\"T_ca4b1_row0_col20\" class=\"data row0 col20\" >1</td>\n",
       "      <td id=\"T_ca4b1_row0_col21\" class=\"data row0 col21\" >0</td>\n",
       "      <td id=\"T_ca4b1_row0_col22\" class=\"data row0 col22\" >1</td>\n",
       "      <td id=\"T_ca4b1_row0_col23\" class=\"data row0 col23\" >uniform</td>\n",
       "      <td id=\"T_ca4b1_row0_col24\" class=\"data row0 col24\" >1</td>\n",
       "      <td id=\"T_ca4b1_row0_col25\" class=\"data row0 col25\" >1</td>\n",
       "      <td id=\"T_ca4b1_row0_col26\" class=\"data row0 col26\" >gpu_hist</td>\n",
       "    </tr>\n",
       "  </tbody>\n",
       "</table>\n"
      ],
      "text/plain": [
       "<pandas.io.formats.style.Styler at 0x7f9dfc5e3050>"
      ]
     },
     "execution_count": 19,
     "metadata": {},
     "output_type": "execute_result"
    }
   ],
   "source": [
    "xgb.hyperparameter_optimization(\n",
    "    n_trials=1,\n",
    "    num_folds=5,\n",
    "    info=True,\n",
    "    search_space_tree_method = ['gpu_hist'],\n",
    "    search_space_booster = ['dart'], # 'gbtree', 'gblinear', 'dart'\n",
    "    search_space_learning_rate = [0.1], # 0.2, 0.3\n",
    "    search_space_min_split_loss = [0],\n",
    "    search_space_max_depth = [8], # 5, 6, 7\n",
    "    search_space_min_child_weight = [1],\n",
    "    search_space_max_delta_step = [0],\n",
    "    search_space_subsample = [1],\n",
    "    search_space_sampling_method = ['uniform'],\n",
    "    search_space_colsample_bytree = [1],\n",
    "    search_space_colsample_bylevel = [1],\n",
    "    search_space_colsample_bynode = [1],\n",
    "    search_space_reg_lambda = [1],\n",
    "    search_space_reg_alpha = [0],\n",
    "    search_space_scale_pos_weight = [1],\n",
    "    search_space_grow_policy = ['depthwise'],\n",
    "    search_space_max_leaves = [0],\n",
    "    search_space_max_bin = [32], # 256, 512\n",
    "    search_space_num_parallel_tree = [1]\n",
    ")"
   ]
  },
  {
   "cell_type": "code",
   "execution_count": 20,
   "metadata": {},
   "outputs": [
    {
     "ename": "KeyboardInterrupt",
     "evalue": "",
     "output_type": "error",
     "traceback": [
      "\u001b[0;31m---------------------------------------------------------------------------\u001b[0m",
      "\u001b[0;31mKeyboardInterrupt\u001b[0m                         Traceback (most recent call last)",
      "Cell \u001b[0;32mIn[20], line 1\u001b[0m\n\u001b[0;32m----> 1\u001b[0m xgb\u001b[38;5;241m.\u001b[39mfit(return_history\u001b[38;5;241m=\u001b[39m\u001b[38;5;28;01mFalse\u001b[39;00m, graphic\u001b[38;5;241m=\u001b[39m\u001b[38;5;28;01mTrue\u001b[39;00m, graphic_save_extension\u001b[38;5;241m=\u001b[39m\u001b[38;5;124m'\u001b[39m\u001b[38;5;124mpng\u001b[39m\u001b[38;5;124m'\u001b[39m, verbose\u001b[38;5;241m=\u001b[39m\u001b[38;5;241m0\u001b[39m, path\u001b[38;5;241m=\u001b[39m\u001b[38;5;124m'\u001b[39m\u001b[38;5;124m../../models\u001b[39m\u001b[38;5;124m'\u001b[39m)\n",
      "File \u001b[0;32m~/Project/signal_processing_using_neural_networks/Exame/src/prediction/prediction.py:1340\u001b[0m, in \u001b[0;36mXgBoost.fit\u001b[0;34m(self, return_history, graphic, graphic_save_extension, verbose, path, **kwargs)\u001b[0m\n\u001b[1;32m   1316\u001b[0m     \u001b[38;5;28mself\u001b[39m\u001b[38;5;241m.\u001b[39mhyperparameter_optimization()\n\u001b[1;32m   1318\u001b[0m \u001b[38;5;28mself\u001b[39m\u001b[38;5;241m.\u001b[39mmodel \u001b[38;5;241m=\u001b[39m \u001b[38;5;28mself\u001b[39m\u001b[38;5;241m.\u001b[39m_make_xgBooster(\n\u001b[1;32m   1319\u001b[0m     tree_method\u001b[38;5;241m=\u001b[39m\u001b[38;5;28mself\u001b[39m\u001b[38;5;241m.\u001b[39mhyperparameter\u001b[38;5;241m.\u001b[39mbest_params[\u001b[38;5;124m\"\u001b[39m\u001b[38;5;124mtree_method\u001b[39m\u001b[38;5;124m\"\u001b[39m],\n\u001b[1;32m   1320\u001b[0m     booster\u001b[38;5;241m=\u001b[39m\u001b[38;5;28mself\u001b[39m\u001b[38;5;241m.\u001b[39mhyperparameter\u001b[38;5;241m.\u001b[39mbest_params[\u001b[38;5;124m\"\u001b[39m\u001b[38;5;124mbooster\u001b[39m\u001b[38;5;124m\"\u001b[39m],\n\u001b[0;32m   (...)\u001b[0m\n\u001b[1;32m   1337\u001b[0m     num_parallel_tree\u001b[38;5;241m=\u001b[39m\u001b[38;5;28mself\u001b[39m\u001b[38;5;241m.\u001b[39mhyperparameter\u001b[38;5;241m.\u001b[39mbest_params[\u001b[38;5;124m\"\u001b[39m\u001b[38;5;124mnum_parallel_tree\u001b[39m\u001b[38;5;124m\"\u001b[39m],\n\u001b[1;32m   1338\u001b[0m )\n\u001b[0;32m-> 1340\u001b[0m \u001b[38;5;28mself\u001b[39m\u001b[38;5;241m.\u001b[39mmodel\u001b[38;5;241m.\u001b[39mfit(\n\u001b[1;32m   1341\u001b[0m     \u001b[38;5;28mself\u001b[39m\u001b[38;5;241m.\u001b[39mpreprocessed_data[\u001b[38;5;124m\"\u001b[39m\u001b[38;5;124mX_train\u001b[39m\u001b[38;5;124m\"\u001b[39m],\n\u001b[1;32m   1342\u001b[0m     \u001b[38;5;28mself\u001b[39m\u001b[38;5;241m.\u001b[39mpreprocessed_data[\u001b[38;5;124m\"\u001b[39m\u001b[38;5;124my_train\u001b[39m\u001b[38;5;124m\"\u001b[39m],\n\u001b[1;32m   1343\u001b[0m     \u001b[38;5;66;03m## Não ocorre data leaking. EarlyStopping utiliza somente eval_set[-1]\u001b[39;00m\n\u001b[1;32m   1344\u001b[0m     eval_set\u001b[38;5;241m=\u001b[39m[\n\u001b[1;32m   1345\u001b[0m         (\u001b[38;5;28mself\u001b[39m\u001b[38;5;241m.\u001b[39mpreprocessed_data[\u001b[38;5;124m\"\u001b[39m\u001b[38;5;124mX_train\u001b[39m\u001b[38;5;124m\"\u001b[39m], \u001b[38;5;28mself\u001b[39m\u001b[38;5;241m.\u001b[39mpreprocessed_data[\u001b[38;5;124m\"\u001b[39m\u001b[38;5;124my_train\u001b[39m\u001b[38;5;124m\"\u001b[39m]),\n\u001b[1;32m   1346\u001b[0m         (\u001b[38;5;28mself\u001b[39m\u001b[38;5;241m.\u001b[39mpreprocessed_data[\u001b[38;5;124m\"\u001b[39m\u001b[38;5;124mX_test\u001b[39m\u001b[38;5;124m\"\u001b[39m], \u001b[38;5;28mself\u001b[39m\u001b[38;5;241m.\u001b[39mpreprocessed_data[\u001b[38;5;124m\"\u001b[39m\u001b[38;5;124my_test\u001b[39m\u001b[38;5;124m\"\u001b[39m]),\n\u001b[1;32m   1347\u001b[0m         (\u001b[38;5;28mself\u001b[39m\u001b[38;5;241m.\u001b[39mpreprocessed_data[\u001b[38;5;124m\"\u001b[39m\u001b[38;5;124mX_val\u001b[39m\u001b[38;5;124m\"\u001b[39m], \u001b[38;5;28mself\u001b[39m\u001b[38;5;241m.\u001b[39mpreprocessed_data[\u001b[38;5;124m\"\u001b[39m\u001b[38;5;124my_val\u001b[39m\u001b[38;5;124m\"\u001b[39m]),\n\u001b[1;32m   1348\u001b[0m     ],\n\u001b[1;32m   1349\u001b[0m     verbose\u001b[38;5;241m=\u001b[39mverbose,\n\u001b[1;32m   1350\u001b[0m )\n\u001b[1;32m   1352\u001b[0m history \u001b[38;5;241m=\u001b[39m \u001b[38;5;28mself\u001b[39m\u001b[38;5;241m.\u001b[39mmodel\u001b[38;5;241m.\u001b[39mevals_result()\n\u001b[1;32m   1354\u001b[0m \u001b[38;5;28;01mif\u001b[39;00m graphic:\n",
      "File \u001b[0;32m~/anaconda3/lib/python3.11/site-packages/xgboost/core.py:730\u001b[0m, in \u001b[0;36mrequire_keyword_args.<locals>.throw_if.<locals>.inner_f\u001b[0;34m(*args, **kwargs)\u001b[0m\n\u001b[1;32m    728\u001b[0m \u001b[38;5;28;01mfor\u001b[39;00m k, arg \u001b[38;5;129;01min\u001b[39;00m \u001b[38;5;28mzip\u001b[39m(sig\u001b[38;5;241m.\u001b[39mparameters, args):\n\u001b[1;32m    729\u001b[0m     kwargs[k] \u001b[38;5;241m=\u001b[39m arg\n\u001b[0;32m--> 730\u001b[0m \u001b[38;5;28;01mreturn\u001b[39;00m func(\u001b[38;5;241m*\u001b[39m\u001b[38;5;241m*\u001b[39mkwargs)\n",
      "File \u001b[0;32m~/anaconda3/lib/python3.11/site-packages/xgboost/sklearn.py:1519\u001b[0m, in \u001b[0;36mXGBClassifier.fit\u001b[0;34m(self, X, y, sample_weight, base_margin, eval_set, eval_metric, early_stopping_rounds, verbose, xgb_model, sample_weight_eval_set, base_margin_eval_set, feature_weights, callbacks)\u001b[0m\n\u001b[1;32m   1491\u001b[0m (\n\u001b[1;32m   1492\u001b[0m     model,\n\u001b[1;32m   1493\u001b[0m     metric,\n\u001b[0;32m   (...)\u001b[0m\n\u001b[1;32m   1498\u001b[0m     xgb_model, eval_metric, params, early_stopping_rounds, callbacks\n\u001b[1;32m   1499\u001b[0m )\n\u001b[1;32m   1500\u001b[0m train_dmatrix, evals \u001b[38;5;241m=\u001b[39m _wrap_evaluation_matrices(\n\u001b[1;32m   1501\u001b[0m     missing\u001b[38;5;241m=\u001b[39m\u001b[38;5;28mself\u001b[39m\u001b[38;5;241m.\u001b[39mmissing,\n\u001b[1;32m   1502\u001b[0m     X\u001b[38;5;241m=\u001b[39mX,\n\u001b[0;32m   (...)\u001b[0m\n\u001b[1;32m   1516\u001b[0m     feature_types\u001b[38;5;241m=\u001b[39m\u001b[38;5;28mself\u001b[39m\u001b[38;5;241m.\u001b[39mfeature_types,\n\u001b[1;32m   1517\u001b[0m )\n\u001b[0;32m-> 1519\u001b[0m \u001b[38;5;28mself\u001b[39m\u001b[38;5;241m.\u001b[39m_Booster \u001b[38;5;241m=\u001b[39m train(\n\u001b[1;32m   1520\u001b[0m     params,\n\u001b[1;32m   1521\u001b[0m     train_dmatrix,\n\u001b[1;32m   1522\u001b[0m     \u001b[38;5;28mself\u001b[39m\u001b[38;5;241m.\u001b[39mget_num_boosting_rounds(),\n\u001b[1;32m   1523\u001b[0m     evals\u001b[38;5;241m=\u001b[39mevals,\n\u001b[1;32m   1524\u001b[0m     early_stopping_rounds\u001b[38;5;241m=\u001b[39mearly_stopping_rounds,\n\u001b[1;32m   1525\u001b[0m     evals_result\u001b[38;5;241m=\u001b[39mevals_result,\n\u001b[1;32m   1526\u001b[0m     obj\u001b[38;5;241m=\u001b[39mobj,\n\u001b[1;32m   1527\u001b[0m     custom_metric\u001b[38;5;241m=\u001b[39mmetric,\n\u001b[1;32m   1528\u001b[0m     verbose_eval\u001b[38;5;241m=\u001b[39mverbose,\n\u001b[1;32m   1529\u001b[0m     xgb_model\u001b[38;5;241m=\u001b[39mmodel,\n\u001b[1;32m   1530\u001b[0m     callbacks\u001b[38;5;241m=\u001b[39mcallbacks,\n\u001b[1;32m   1531\u001b[0m )\n\u001b[1;32m   1533\u001b[0m \u001b[38;5;28;01mif\u001b[39;00m \u001b[38;5;129;01mnot\u001b[39;00m \u001b[38;5;28mcallable\u001b[39m(\u001b[38;5;28mself\u001b[39m\u001b[38;5;241m.\u001b[39mobjective):\n\u001b[1;32m   1534\u001b[0m     \u001b[38;5;28mself\u001b[39m\u001b[38;5;241m.\u001b[39mobjective \u001b[38;5;241m=\u001b[39m params[\u001b[38;5;124m\"\u001b[39m\u001b[38;5;124mobjective\u001b[39m\u001b[38;5;124m\"\u001b[39m]\n",
      "File \u001b[0;32m~/anaconda3/lib/python3.11/site-packages/xgboost/core.py:730\u001b[0m, in \u001b[0;36mrequire_keyword_args.<locals>.throw_if.<locals>.inner_f\u001b[0;34m(*args, **kwargs)\u001b[0m\n\u001b[1;32m    728\u001b[0m \u001b[38;5;28;01mfor\u001b[39;00m k, arg \u001b[38;5;129;01min\u001b[39;00m \u001b[38;5;28mzip\u001b[39m(sig\u001b[38;5;241m.\u001b[39mparameters, args):\n\u001b[1;32m    729\u001b[0m     kwargs[k] \u001b[38;5;241m=\u001b[39m arg\n\u001b[0;32m--> 730\u001b[0m \u001b[38;5;28;01mreturn\u001b[39;00m func(\u001b[38;5;241m*\u001b[39m\u001b[38;5;241m*\u001b[39mkwargs)\n",
      "File \u001b[0;32m~/anaconda3/lib/python3.11/site-packages/xgboost/training.py:181\u001b[0m, in \u001b[0;36mtrain\u001b[0;34m(params, dtrain, num_boost_round, evals, obj, feval, maximize, early_stopping_rounds, evals_result, verbose_eval, xgb_model, callbacks, custom_metric)\u001b[0m\n\u001b[1;32m    179\u001b[0m \u001b[38;5;28;01mif\u001b[39;00m cb_container\u001b[38;5;241m.\u001b[39mbefore_iteration(bst, i, dtrain, evals):\n\u001b[1;32m    180\u001b[0m     \u001b[38;5;28;01mbreak\u001b[39;00m\n\u001b[0;32m--> 181\u001b[0m bst\u001b[38;5;241m.\u001b[39mupdate(dtrain, i, obj)\n\u001b[1;32m    182\u001b[0m \u001b[38;5;28;01mif\u001b[39;00m cb_container\u001b[38;5;241m.\u001b[39mafter_iteration(bst, i, dtrain, evals):\n\u001b[1;32m    183\u001b[0m     \u001b[38;5;28;01mbreak\u001b[39;00m\n",
      "File \u001b[0;32m~/anaconda3/lib/python3.11/site-packages/xgboost/core.py:2051\u001b[0m, in \u001b[0;36mBooster.update\u001b[0;34m(self, dtrain, iteration, fobj)\u001b[0m\n\u001b[1;32m   2047\u001b[0m \u001b[38;5;28mself\u001b[39m\u001b[38;5;241m.\u001b[39m_assign_dmatrix_features(dtrain)\n\u001b[1;32m   2049\u001b[0m \u001b[38;5;28;01mif\u001b[39;00m fobj \u001b[38;5;129;01mis\u001b[39;00m \u001b[38;5;28;01mNone\u001b[39;00m:\n\u001b[1;32m   2050\u001b[0m     _check_call(\n\u001b[0;32m-> 2051\u001b[0m         _LIB\u001b[38;5;241m.\u001b[39mXGBoosterUpdateOneIter(\n\u001b[1;32m   2052\u001b[0m             \u001b[38;5;28mself\u001b[39m\u001b[38;5;241m.\u001b[39mhandle, ctypes\u001b[38;5;241m.\u001b[39mc_int(iteration), dtrain\u001b[38;5;241m.\u001b[39mhandle\n\u001b[1;32m   2053\u001b[0m         )\n\u001b[1;32m   2054\u001b[0m     )\n\u001b[1;32m   2055\u001b[0m \u001b[38;5;28;01melse\u001b[39;00m:\n\u001b[1;32m   2056\u001b[0m     pred \u001b[38;5;241m=\u001b[39m \u001b[38;5;28mself\u001b[39m\u001b[38;5;241m.\u001b[39mpredict(dtrain, output_margin\u001b[38;5;241m=\u001b[39m\u001b[38;5;28;01mTrue\u001b[39;00m, training\u001b[38;5;241m=\u001b[39m\u001b[38;5;28;01mTrue\u001b[39;00m)\n",
      "\u001b[0;31mKeyboardInterrupt\u001b[0m: "
     ]
    }
   ],
   "source": [
    "xgb.fit(return_history=False, graphic=True, graphic_save_extension='png', verbose=0, path='../../models')"
   ]
  },
  {
   "cell_type": "code",
   "execution_count": null,
   "metadata": {},
   "outputs": [],
   "source": [
    "xgb.save(path='../../models')"
   ]
  },
  {
   "cell_type": "markdown",
   "metadata": {},
   "source": [
    "### Predição"
   ]
  },
  {
   "cell_type": "code",
   "execution_count": null,
   "metadata": {},
   "outputs": [],
   "source": [
    "pred_xgb = xgb.predict(df_prediction, bias_value=0.00)"
   ]
  },
  {
   "cell_type": "code",
   "execution_count": null,
   "metadata": {},
   "outputs": [],
   "source": [
    "pred_xgb.head(5)"
   ]
  },
  {
   "cell_type": "code",
   "execution_count": null,
   "metadata": {},
   "outputs": [],
   "source": [
    "submission_xgb = pred_xgb[['espera (XGB prediction)']]"
   ]
  },
  {
   "cell_type": "code",
   "execution_count": null,
   "metadata": {},
   "outputs": [],
   "source": [
    "submission_xgb.columns = ['espera']"
   ]
  },
  {
   "cell_type": "code",
   "execution_count": null,
   "metadata": {},
   "outputs": [],
   "source": [
    "submission_xgb.head(5)"
   ]
  },
  {
   "cell_type": "code",
   "execution_count": null,
   "metadata": {},
   "outputs": [],
   "source": [
    "submission_xgb.to_csv(f\"../../data/submission/dsc_submission_{xgb.name}_ratio_classes_5x1_padding_50_drop_0_bias_0.0.csv\", index=True)"
   ]
  }
 ],
 "metadata": {
  "kernelspec": {
   "display_name": ".venv",
   "language": "python",
   "name": "python3"
  },
  "language_info": {
   "codemirror_mode": {
    "name": "ipython",
    "version": 3
   },
   "file_extension": ".py",
   "mimetype": "text/x-python",
   "name": "python",
   "nbconvert_exporter": "python",
   "pygments_lexer": "ipython3",
   "version": "3.11.7"
  }
 },
 "nbformat": 4,
 "nbformat_minor": 2
}
